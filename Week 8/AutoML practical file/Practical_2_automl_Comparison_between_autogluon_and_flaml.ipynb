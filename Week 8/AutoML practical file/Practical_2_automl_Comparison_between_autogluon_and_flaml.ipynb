{
  "cells": [
    {
      "cell_type": "markdown",
      "id": "5329090d",
      "metadata": {
        "_cell_guid": "b1076dfc-b9ad-4769-8c92-a6c4dae69d19",
        "_uuid": "8f2839f25d086af736a60e9eeb907d3b93b6e0e5",
        "execution": {
          "iopub.execute_input": "2022-11-23T16:27:12.330787Z",
          "iopub.status.busy": "2022-11-23T16:27:12.330355Z",
          "iopub.status.idle": "2022-11-23T16:27:12.343736Z",
          "shell.execute_reply": "2022-11-23T16:27:12.342742Z",
          "shell.execute_reply.started": "2022-11-23T16:27:12.330750Z"
        },
        "papermill": {
          "duration": 0.027235,
          "end_time": "2023-06-22T07:48:23.971121",
          "exception": false,
          "start_time": "2023-06-22T07:48:23.943886",
          "status": "completed"
        },
        "tags": [],
        "id": "5329090d"
      },
      "source": [
        "\n",
        "<div style=\"color:#D81F26;\n",
        "           display:fill;\n",
        "           border-style: solid;\n",
        "           border-color:#C1C1C1;\n",
        "           font-size:14px;\n",
        "           font-family:Calibri;\n",
        "           background-color:#373737;\">\n",
        "<h2 style=\"text-align: center;\n",
        "           padding: 10px;\n",
        "           color:#FFFFFF;\">\n",
        "======= Easy-to-use AutoML (Autogluon, FLAML) =======\n",
        "</h2>\n",
        "</div>"
      ]
    },
    {
      "cell_type": "markdown",
      "id": "ff8fd25b",
      "metadata": {
        "papermill": {
          "duration": 0.024495,
          "end_time": "2023-06-22T07:48:24.020691",
          "exception": false,
          "start_time": "2023-06-22T07:48:23.996196",
          "status": "completed"
        },
        "tags": [],
        "id": "ff8fd25b"
      },
      "source": [
        "<img src=\"https://research.aimultiple.com/wp-content/webp-express/webp-images/uploads/2018/06/good-data-800x400.jpg.webp\" length=700 width=700>"
      ]
    },
    {
      "cell_type": "code",
      "execution_count": null,
      "id": "3ea847e5",
      "metadata": {
        "_kg_hide-output": true,
        "execution": {
          "iopub.execute_input": "2023-06-22T07:48:34.260149Z",
          "iopub.status.busy": "2023-06-22T07:48:34.259448Z",
          "iopub.status.idle": "2023-06-22T07:50:34.475546Z",
          "shell.execute_reply": "2023-06-22T07:50:34.473610Z"
        },
        "papermill": {
          "duration": 120.251604,
          "end_time": "2023-06-22T07:50:34.478832",
          "exception": false,
          "start_time": "2023-06-22T07:48:34.227228",
          "status": "completed"
        },
        "tags": [],
        "id": "3ea847e5"
      },
      "outputs": [],
      "source": [
        "# Need to intall the latest sklearn in order to use the auto-sklearn\n",
        "!apt-get remove swig\n",
        "!apt-get install swig3.0 build-essential -y\n",
        "!ln -s /usr/bin/swig3.0 /usr/bin/swig\n",
        "!apt-get install build-essential\n",
        "!pip install --upgrade setuptools\n",
        "!pip install -U scikit-learn\n",
        "!pip freeze | grep scikit-learn\n",
        "\n",
        "# Install  the FLAML package\n",
        "!pip install flaml\n",
        "!pip install autogluon"
      ]
    },
    {
      "cell_type": "markdown",
      "source": [
        "# **You need to restart runtime after this step. The installation part will take around 15 mins**"
      ],
      "metadata": {
        "id": "aZBxm3oBZnEZ"
      },
      "id": "aZBxm3oBZnEZ"
    },
    {
      "cell_type": "markdown",
      "id": "3c667da2",
      "metadata": {
        "papermill": {
          "duration": 0.024691,
          "end_time": "2023-06-22T07:48:24.071004",
          "exception": false,
          "start_time": "2023-06-22T07:48:24.046313",
          "status": "completed"
        },
        "tags": [],
        "id": "3c667da2"
      },
      "source": [
        "# 1. About this notebook"
      ]
    },
    {
      "cell_type": "markdown",
      "id": "e1dc0a4c",
      "metadata": {
        "papermill": {
          "duration": 0.024709,
          "end_time": "2023-06-22T07:48:24.120207",
          "exception": false,
          "start_time": "2023-06-22T07:48:24.095498",
          "status": "completed"
        },
        "tags": [],
        "id": "e1dc0a4c"
      },
      "source": [
        "AutoML is a valuable tool for data scientists, as it streamlines the process of selecting the optimal machine learning model and hyperparameters while minimizing the need for technical expertise. With AutoML, data scientists can focus on use case application, integration, and model deployment. This notebook utilizes three AutoML packages to compare their performance using the Heart Failure Prediction dataset. AutoML alleviates the overhead of model algorithm comparison and hyperparameter tuning for each algorithm, automatically selecting the best model algorithm for inference.\n",
        "\n",
        "## 1.1. Summary of the Piepline\n",
        "\n",
        "* Check if there are any null values in the features\n",
        "* Handle the outliers for numerical variables by IRQ\n",
        "* Standardize the distribution of numerical variables by RobustScaler\n",
        "* Encode categorical variables by OneHotEncoder\n",
        "* Perform the Autogluon, FLAML and AutoSKLearn automl model and measure performance metrics of Accuracy, Precision, F1, Recall, ROC AUC and Confusion Matrix\n",
        "\n",
        "## 1.2. Observation and Findings\n",
        "\n",
        "The results indicate that <b>Autogluon</b> outperforms the other two packages, while <b>AutoSKLearn</b> performs the worst. One of the reasons for this difference in performance could be the availability of model algorithms. <b>AutoSKLearn</b> only uses models available in SKLearn and forms ensembles from base learners such as regression, decision tree, and kNN. In contrast, <b>FLAML</b> and <b>Autogluon</b> AutoML include advanced model algorithms like XGBoost, LGBM, and CatBoost. Despite the advanced model algorithms, <b>Autogluon</b> AutoML also uses an ensemble classifier based on the base advanced model learners of XGBoost and LGBM. This drives <b>Autogluon</b> to slightly outperform <b>FLAML</b>, as <b>FLAML</b> has no ensemble classifier from the base learners.\n"
      ]
    },
    {
      "cell_type": "markdown",
      "id": "312bfd1f",
      "metadata": {
        "papermill": {
          "duration": 0.024877,
          "end_time": "2023-06-22T07:48:24.170300",
          "exception": false,
          "start_time": "2023-06-22T07:48:24.145423",
          "status": "completed"
        },
        "tags": [],
        "id": "312bfd1f"
      },
      "source": [
        "# 2. Setup"
      ]
    },
    {
      "cell_type": "code",
      "execution_count": null,
      "id": "4163f442",
      "metadata": {
        "execution": {
          "iopub.execute_input": "2023-06-22T07:48:24.222027Z",
          "iopub.status.busy": "2023-06-22T07:48:24.221355Z",
          "iopub.status.idle": "2023-06-22T07:48:24.244943Z",
          "shell.execute_reply": "2023-06-22T07:48:24.243613Z"
        },
        "papermill": {
          "duration": 0.05314,
          "end_time": "2023-06-22T07:48:24.248027",
          "exception": false,
          "start_time": "2023-06-22T07:48:24.194887",
          "status": "completed"
        },
        "tags": [],
        "id": "4163f442"
      },
      "outputs": [],
      "source": [
        "# This Python 3 environment comes with many helpful analytics libraries installed\n",
        "# It is defined by the kaggle/python Docker image: https://github.com/kaggle/docker-python\n",
        "# For example, here's several helpful packages to load\n",
        "\n",
        "import numpy as np # linear algebra\n",
        "import pandas as pd # data processing, CSV file I/O (e.g. pd.read_csv)\n"
      ]
    },
    {
      "cell_type": "markdown",
      "id": "7c726ce3",
      "metadata": {
        "papermill": {
          "duration": 0.024375,
          "end_time": "2023-06-22T07:48:24.297713",
          "exception": false,
          "start_time": "2023-06-22T07:48:24.273338",
          "status": "completed"
        },
        "tags": [],
        "id": "7c726ce3"
      },
      "source": [
        "## 2.1. Package Installation"
      ]
    },
    {
      "cell_type": "code",
      "execution_count": null,
      "id": "b25b1510",
      "metadata": {
        "execution": {
          "iopub.execute_input": "2023-06-22T07:48:24.349108Z",
          "iopub.status.busy": "2023-06-22T07:48:24.348674Z",
          "iopub.status.idle": "2023-06-22T07:48:25.688477Z",
          "shell.execute_reply": "2023-06-22T07:48:25.687422Z"
        },
        "papermill": {
          "duration": 1.368671,
          "end_time": "2023-06-22T07:48:25.691254",
          "exception": false,
          "start_time": "2023-06-22T07:48:24.322583",
          "status": "completed"
        },
        "tags": [],
        "id": "b25b1510"
      },
      "outputs": [],
      "source": [
        "# Data Standardization and Encoding\n",
        "from sklearn.preprocessing import RobustScaler, OneHotEncoder\n",
        "\n",
        "# Compariosn for Model Performance\n",
        "from sklearn import model_selection, metrics, naive_bayes\n",
        "\n",
        "# Visualization Library, matplotlib and seaborn\n",
        "%matplotlib inline\n",
        "import matplotlib.pyplot as plt\n",
        "import seaborn as sns\n",
        "\n",
        "# Hide convergence warning for now\n",
        "import warnings\n",
        "from sklearn.exceptions import ConvergenceWarning\n",
        "warnings.filterwarnings(\"ignore\", category=ConvergenceWarning)"
      ]
    },
    {
      "cell_type": "markdown",
      "id": "639ff0fa",
      "metadata": {
        "papermill": {
          "duration": 0.0243,
          "end_time": "2023-06-22T07:48:25.740845",
          "exception": false,
          "start_time": "2023-06-22T07:48:25.716545",
          "status": "completed"
        },
        "tags": [],
        "id": "639ff0fa"
      },
      "source": [
        "## 2.2. Data Set"
      ]
    },
    {
      "cell_type": "markdown",
      "id": "1de56a8c",
      "metadata": {
        "papermill": {
          "duration": 0.024269,
          "end_time": "2023-06-22T07:48:25.789742",
          "exception": false,
          "start_time": "2023-06-22T07:48:25.765473",
          "status": "completed"
        },
        "tags": [],
        "id": "1de56a8c"
      },
      "source": [
        "#### The Heart Failure Prediction Dataset, which is contributed by @fedesoriano, is used.  The details of the data set can be referred to [Heart Failure Prediction Dataset](https://www.kaggle.com/datasets/fedesoriano/heart-failure-prediction)"
      ]
    },
    {
      "cell_type": "markdown",
      "id": "cb6e0d28",
      "metadata": {
        "papermill": {
          "duration": 0.024172,
          "end_time": "2023-06-22T07:48:25.839301",
          "exception": false,
          "start_time": "2023-06-22T07:48:25.815129",
          "status": "completed"
        },
        "tags": [],
        "id": "cb6e0d28"
      },
      "source": [
        "## 2.3. Data Attributes"
      ]
    },
    {
      "cell_type": "markdown",
      "id": "84638591",
      "metadata": {
        "papermill": {
          "duration": 0.024128,
          "end_time": "2023-06-22T07:48:25.887949",
          "exception": false,
          "start_time": "2023-06-22T07:48:25.863821",
          "status": "completed"
        },
        "tags": [],
        "id": "84638591"
      },
      "source": [
        "\n",
        "* <div style=\"font-size: 18px\">Age: age of the patient [years]</div>\n",
        "* <div style=\"font-size: 18px\">Sex: sex of the patient [M: Male, F: Female]</div>\n",
        "* <div style=\"font-size: 18px\">ChestPainType: chest pain type [TA: Typical Angina, ATA: Atypical Angina, NAP: Non-Anginal Pain, ASY: Asymptomatic]</div>\n",
        "* <div style=\"font-size: 18px\">RestingBP: resting blood pressure [mm Hg]</div>\n",
        "* <div style=\"font-size: 18px\">Cholesterol: serum cholesterol [mm/dl]</div>\n",
        "* <div style=\"font-size: 18px\">FastingBS: fasting blood sugar [1: if FastingBS > 120 mg/dl, 0: otherwise]</div>\n",
        "* <div style=\"font-size: 18px\">RestingECG: resting electrocardiogram results [Normal: Normal, ST: having ST-T wave abnormality (T wave inversions and/or ST elevation or depression of > 0.05 mV), LVH: showing probable or definite left ventricular hypertrophy by Estes' criteria]</div>\n",
        "* <div style=\"font-size: 18px\">MaxHR: maximum heart rate achieved [Numeric value between 60 and 202]</div>\n",
        "* <div style=\"font-size: 18px\">ExerciseAngina: exercise-induced angina [Y: Yes, N: No]</div>\n",
        "* <div style=\"font-size: 18px\">Oldpeak: oldpeak = ST [Numeric value measured in depression]</div>\n",
        "* <div style=\"font-size: 18px\">ST_Slope: the slope of the peak exercise ST segment [Up: upsloping, Flat: flat, Down: downsloping]</div>\n",
        "* <div style=\"font-size: 18px\">HeartDisease: target class [1: heart disease, 0: Normal]</div>\n"
      ]
    },
    {
      "cell_type": "markdown",
      "id": "2c661dbb",
      "metadata": {
        "papermill": {
          "duration": 0.024202,
          "end_time": "2023-06-22T07:48:25.936638",
          "exception": false,
          "start_time": "2023-06-22T07:48:25.912436",
          "status": "completed"
        },
        "tags": [],
        "id": "2c661dbb"
      },
      "source": [
        "## 2.4. Load the data"
      ]
    },
    {
      "cell_type": "code",
      "execution_count": null,
      "id": "1c54dfb9",
      "metadata": {
        "execution": {
          "iopub.execute_input": "2023-06-22T07:48:25.988388Z",
          "iopub.status.busy": "2023-06-22T07:48:25.987230Z",
          "iopub.status.idle": "2023-06-22T07:48:26.009317Z",
          "shell.execute_reply": "2023-06-22T07:48:26.007879Z"
        },
        "papermill": {
          "duration": 0.050901,
          "end_time": "2023-06-22T07:48:26.011997",
          "exception": false,
          "start_time": "2023-06-22T07:48:25.961096",
          "status": "completed"
        },
        "tags": [],
        "id": "1c54dfb9"
      },
      "outputs": [],
      "source": [
        "df_heart = pd.read_csv('https://raw.githubusercontent.com/nyp-sit/sdaai-iti103/master/session%209/heart.csv')\n",
        "print('No. of row: {}, no. of columns: {}'.format(df_heart.shape[0], df_heart.shape[1]))"
      ]
    },
    {
      "cell_type": "markdown",
      "id": "ae0f0ec7",
      "metadata": {
        "papermill": {
          "duration": 0.024492,
          "end_time": "2023-06-22T07:48:26.061366",
          "exception": false,
          "start_time": "2023-06-22T07:48:26.036874",
          "status": "completed"
        },
        "tags": [],
        "id": "ae0f0ec7"
      },
      "source": [
        "# 3. Exploratory Data Analysis"
      ]
    },
    {
      "cell_type": "markdown",
      "id": "a7283de8",
      "metadata": {
        "papermill": {
          "duration": 0.024437,
          "end_time": "2023-06-22T07:48:26.110637",
          "exception": false,
          "start_time": "2023-06-22T07:48:26.086200",
          "status": "completed"
        },
        "tags": [],
        "id": "a7283de8"
      },
      "source": [
        "## 3.1. Distribution of target feature\n",
        "\n",
        "<div style=\" background-color:#3a5311;text-align:left; padding: 13px 13px; border-radius: 8px; color: white; font-size: 16px\">\n",
        "Objective: to check if the distribution of target feature (i.e. heart disease) is balanced.  If it is not the case, we will do oversampling.  \n",
        "</div>"
      ]
    },
    {
      "cell_type": "code",
      "execution_count": null,
      "id": "cb398484",
      "metadata": {
        "execution": {
          "iopub.execute_input": "2023-06-22T07:48:26.162498Z",
          "iopub.status.busy": "2023-06-22T07:48:26.161569Z",
          "iopub.status.idle": "2023-06-22T07:48:26.377256Z",
          "shell.execute_reply": "2023-06-22T07:48:26.376014Z"
        },
        "papermill": {
          "duration": 0.244531,
          "end_time": "2023-06-22T07:48:26.380072",
          "exception": false,
          "start_time": "2023-06-22T07:48:26.135541",
          "status": "completed"
        },
        "tags": [],
        "id": "cb398484"
      },
      "outputs": [],
      "source": [
        "# check whether the data set is balanced\n",
        "\n",
        "def auto_fmt (pct_value):\n",
        "    return '{:.0f}\\n({:.2f}%)'.format(df_heart['HeartDisease'].value_counts().sum()*pct_value/100,pct_value)\n",
        "\n",
        "df_target_count = df_heart['HeartDisease'].value_counts().rename_axis('HeartDisease').reset_index(name='Counts')\n",
        "\n",
        "# plt.pie(x=df_target_count, labels=df_target_count.index, autopct='%1.2f%%')\n",
        "fig = plt.gcf()\n",
        "fig.set_size_inches(6,6)\n",
        "plt.pie(x=df_target_count['Counts'], labels=df_target_count['HeartDisease'], autopct=auto_fmt, textprops={'fontsize': 18})\n",
        "plt.title('Distribution of Target Label (i.e. Heard Disease)',  fontsize = 20)\n",
        "# plt.axis('equal')"
      ]
    },
    {
      "cell_type": "markdown",
      "id": "4c4ae89f",
      "metadata": {
        "papermill": {
          "duration": 0.025594,
          "end_time": "2023-06-22T07:48:26.431468",
          "exception": false,
          "start_time": "2023-06-22T07:48:26.405874",
          "status": "completed"
        },
        "tags": [],
        "id": "4c4ae89f"
      },
      "source": [
        "<div style=\" background-color:#0A1172;text-align:left; padding: 13px 13px; border-radius: 8px; color: white; font-size: 16px\">\n",
        "Observation: the distribution of target feature between disgnosed and non-disgnosed cases is quite even.  It is no necessary to do oversampling, e.g. SMOTE.\n",
        "</div>\n"
      ]
    },
    {
      "cell_type": "markdown",
      "id": "2fa6437c",
      "metadata": {
        "papermill": {
          "duration": 0.025193,
          "end_time": "2023-06-22T07:48:26.482101",
          "exception": false,
          "start_time": "2023-06-22T07:48:26.456908",
          "status": "completed"
        },
        "tags": [],
        "id": "2fa6437c"
      },
      "source": [
        "## 3.2 Missing value replacement\n",
        "<div style=\" background-color:#3a5311;text-align:left; padding: 13px 13px; border-radius: 8px; color: white; font-size: 16px\">\n",
        "Objective: to check if the data has missing value.  If it is the case, we will do pre-processing for missing value replacement, e.g. replace null with mode for categorical variables and with mean / median for numerical variables\n",
        "</div>"
      ]
    },
    {
      "cell_type": "code",
      "execution_count": null,
      "id": "73292127",
      "metadata": {
        "execution": {
          "iopub.execute_input": "2023-06-22T07:48:26.536645Z",
          "iopub.status.busy": "2023-06-22T07:48:26.536232Z",
          "iopub.status.idle": "2023-06-22T07:48:26.547640Z",
          "shell.execute_reply": "2023-06-22T07:48:26.546498Z"
        },
        "papermill": {
          "duration": 0.042723,
          "end_time": "2023-06-22T07:48:26.550297",
          "exception": false,
          "start_time": "2023-06-22T07:48:26.507574",
          "status": "completed"
        },
        "tags": [],
        "id": "73292127"
      },
      "outputs": [],
      "source": [
        "df_heart.isnull().sum()"
      ]
    },
    {
      "cell_type": "markdown",
      "id": "c1575a20",
      "metadata": {
        "papermill": {
          "duration": 0.025177,
          "end_time": "2023-06-22T07:48:26.601041",
          "exception": false,
          "start_time": "2023-06-22T07:48:26.575864",
          "status": "completed"
        },
        "tags": [],
        "id": "c1575a20"
      },
      "source": [
        "<div style=\" background-color:#0A1172;text-align:left; padding: 13px 13px; border-radius: 8px; color: white; font-size: 16px\">\n",
        "Observation: there is no missing value in the data.\n",
        "</div>"
      ]
    },
    {
      "cell_type": "markdown",
      "id": "ae2a5eab",
      "metadata": {
        "papermill": {
          "duration": 0.024991,
          "end_time": "2023-06-22T07:48:26.651490",
          "exception": false,
          "start_time": "2023-06-22T07:48:26.626499",
          "status": "completed"
        },
        "tags": [],
        "id": "ae2a5eab"
      },
      "source": [
        "## 3.3 Outlier analysis and detection\n",
        "\n",
        "<div style=\" background-color:#3a5311;text-align:left; padding: 13px 13px; border-radius: 8px; color: white; font-size: 16px\">\n",
        "Objective: Outlier analysis is the process of identifying abnormal or extreme observations in a data set. Since outlier causes distribution to have skew distribution, and decision boundary of a model may be skewed to long-tail side, causing inappropriate decision from models.\n",
        "</div>\n"
      ]
    },
    {
      "cell_type": "code",
      "execution_count": null,
      "id": "46e218ae",
      "metadata": {
        "execution": {
          "iopub.execute_input": "2023-06-22T07:48:26.704939Z",
          "iopub.status.busy": "2023-06-22T07:48:26.704232Z",
          "iopub.status.idle": "2023-06-22T07:48:26.716426Z",
          "shell.execute_reply": "2023-06-22T07:48:26.714826Z"
        },
        "papermill": {
          "duration": 0.0419,
          "end_time": "2023-06-22T07:48:26.718873",
          "exception": false,
          "start_time": "2023-06-22T07:48:26.676973",
          "status": "completed"
        },
        "tags": [],
        "id": "46e218ae"
      },
      "outputs": [],
      "source": [
        "# identify the type of features into either numerical or categorical by values of the features\n",
        "\n",
        "categorical = [var for var in df_heart.columns if df_heart[var].dtype=='O']\n",
        "numerical = [var for var in df_heart.columns if df_heart[var].dtype != 'O' and (var != 'HeartDisease')]\n",
        "\n",
        "# FastingBS will be automatically identified as numerical feature since it only has value of 0 and 1.  We will manually re-group it into categorical feature\n",
        "\n",
        "categorical.append('FastingBS')\n",
        "numerical.remove('FastingBS')\n",
        "\n",
        "print ('Size of the base {}'.format(df_heart.shape))\n",
        "print ('Total No. of variables {}'.format (len(categorical) + len(numerical)))\n",
        "print ('Total No. of categorical variables {}'.format (len(categorical)))\n",
        "print ('Total No. of numberical variables {}'.format (len(numerical)))"
      ]
    },
    {
      "cell_type": "markdown",
      "id": "22990035",
      "metadata": {
        "papermill": {
          "duration": 0.025585,
          "end_time": "2023-06-22T07:48:26.770139",
          "exception": false,
          "start_time": "2023-06-22T07:48:26.744554",
          "status": "completed"
        },
        "tags": [],
        "id": "22990035"
      },
      "source": [
        "<div style=\" background-color:#d0312d;text-align:left; padding: 13px 13px; border-radius: 8px; color: white; font-size: 16px\">\n",
        "Using Boxplot and Histogram to analyze distribution of numerical variables.  This aims to analyze outliers.  </div>"
      ]
    },
    {
      "cell_type": "code",
      "execution_count": null,
      "id": "09602e58",
      "metadata": {
        "execution": {
          "iopub.execute_input": "2023-06-22T07:48:26.823482Z",
          "iopub.status.busy": "2023-06-22T07:48:26.823086Z",
          "iopub.status.idle": "2023-06-22T07:48:26.861539Z",
          "shell.execute_reply": "2023-06-22T07:48:26.860369Z"
        },
        "papermill": {
          "duration": 0.068541,
          "end_time": "2023-06-22T07:48:26.864231",
          "exception": false,
          "start_time": "2023-06-22T07:48:26.795690",
          "status": "completed"
        },
        "tags": [],
        "id": "09602e58"
      },
      "outputs": [],
      "source": [
        "df_heart[numerical].describe()"
      ]
    },
    {
      "cell_type": "markdown",
      "id": "41bce7e6",
      "metadata": {
        "papermill": {
          "duration": 0.02598,
          "end_time": "2023-06-22T07:48:26.916253",
          "exception": false,
          "start_time": "2023-06-22T07:48:26.890273",
          "status": "completed"
        },
        "tags": [],
        "id": "41bce7e6"
      },
      "source": [
        "<div style=\" background-color:#d0312d;text-align:left; padding: 13px 13px; border-radius: 8px; color: white; font-size: 16px\">\n",
        "The Boxplot to analyze outliers</div>"
      ]
    },
    {
      "cell_type": "code",
      "execution_count": null,
      "id": "4c1c448b",
      "metadata": {
        "execution": {
          "iopub.execute_input": "2023-06-22T07:48:26.971079Z",
          "iopub.status.busy": "2023-06-22T07:48:26.970588Z",
          "iopub.status.idle": "2023-06-22T07:48:27.914486Z",
          "shell.execute_reply": "2023-06-22T07:48:27.913254Z"
        },
        "papermill": {
          "duration": 0.975331,
          "end_time": "2023-06-22T07:48:27.917412",
          "exception": false,
          "start_time": "2023-06-22T07:48:26.942081",
          "status": "completed"
        },
        "tags": [],
        "id": "4c1c448b"
      },
      "outputs": [],
      "source": [
        "# Histgram for numercial features\n",
        "fig, ax = plt.subplots(3, 2, figsize=(16,16))\n",
        "\n",
        "sns.boxplot(x=\"HeartDisease\",y=\"Age\",data=df_heart, ax=ax[0][0])\n",
        "sns.boxplot(x=\"HeartDisease\",y=\"RestingBP\",data=df_heart, ax=ax[0][1])\n",
        "sns.boxplot(x=\"HeartDisease\",y=\"Cholesterol\",data=df_heart, ax=ax[1][0])\n",
        "sns.boxplot(x=\"HeartDisease\",y=\"MaxHR\",data=df_heart, ax=ax[1][1])\n",
        "sns.boxplot(x=\"HeartDisease\",y=\"Oldpeak\",data=df_heart, ax=ax[2][0])"
      ]
    },
    {
      "cell_type": "markdown",
      "id": "3c216a8b",
      "metadata": {
        "papermill": {
          "duration": 0.026379,
          "end_time": "2023-06-22T07:48:27.970785",
          "exception": false,
          "start_time": "2023-06-22T07:48:27.944406",
          "status": "completed"
        },
        "tags": [],
        "id": "3c216a8b"
      },
      "source": [
        "<div style=\" background-color:#d0312d;text-align:left; padding: 13px 13px; border-radius: 8px; color: white; font-size: 16px\">\n",
        "To use Histogram to analyze skewness of the distribution</div>"
      ]
    },
    {
      "cell_type": "code",
      "execution_count": null,
      "id": "5bef71fc",
      "metadata": {
        "execution": {
          "iopub.execute_input": "2023-06-22T07:48:28.026787Z",
          "iopub.status.busy": "2023-06-22T07:48:28.026351Z",
          "iopub.status.idle": "2023-06-22T07:48:29.467060Z",
          "shell.execute_reply": "2023-06-22T07:48:29.465895Z"
        },
        "papermill": {
          "duration": 1.472568,
          "end_time": "2023-06-22T07:48:29.470468",
          "exception": false,
          "start_time": "2023-06-22T07:48:27.997900",
          "status": "completed"
        },
        "tags": [],
        "id": "5bef71fc"
      },
      "outputs": [],
      "source": [
        "# Histgram for numercial features\n",
        "fig, ax = plt.subplots(3, 2, figsize=(16,16))\n",
        "\n",
        "for i in range(0, (len(ax.flatten())-1)):\n",
        "#     print('{}, {}'.format(int(i/2),i % 2))\n",
        "    sns.histplot(data=df_heart, x =df_heart[numerical[i]], bins=25, ax=ax[int(i/2),i % 2])"
      ]
    },
    {
      "cell_type": "markdown",
      "id": "1b73a999",
      "metadata": {
        "papermill": {
          "duration": 0.029316,
          "end_time": "2023-06-22T07:48:29.527922",
          "exception": false,
          "start_time": "2023-06-22T07:48:29.498606",
          "status": "completed"
        },
        "tags": [],
        "id": "1b73a999"
      },
      "source": [
        "<div style=\" background-color:#0A1172;text-align:left; padding: 13px 13px; border-radius: 8px; color: white; font-size: 16px\">\n",
        "Observation: From the histograms, some values of rest BP, cholesterol and old peak are abnormal. We will replace the abnormal values with median of the data features. Also, from the boxplot, there are outliers for some featurs.  In the next step, we are going to remove the outliers.\n",
        "</div>"
      ]
    },
    {
      "cell_type": "markdown",
      "id": "1685b439",
      "metadata": {
        "papermill": {
          "duration": 0.026833,
          "end_time": "2023-06-22T07:48:29.581957",
          "exception": false,
          "start_time": "2023-06-22T07:48:29.555124",
          "status": "completed"
        },
        "tags": [],
        "id": "1685b439"
      },
      "source": [
        "<div style=\" background-color:#d0312d;text-align:left; padding: 13px 13px; border-radius: 8px; color: white; font-size: 16px\">\n",
        "    To remove outliers by <b>IRQ method</b> - IQR method is used to identify outliers to set up a boundary outside of Q1 and Q3. Any values that fall outside of the boundary are considered outliers. </div>"
      ]
    },
    {
      "cell_type": "code",
      "execution_count": null,
      "id": "54c63542",
      "metadata": {
        "execution": {
          "iopub.execute_input": "2023-06-22T07:48:29.638528Z",
          "iopub.status.busy": "2023-06-22T07:48:29.637675Z",
          "iopub.status.idle": "2023-06-22T07:48:29.670093Z",
          "shell.execute_reply": "2023-06-22T07:48:29.668947Z"
        },
        "papermill": {
          "duration": 0.063623,
          "end_time": "2023-06-22T07:48:29.672785",
          "exception": false,
          "start_time": "2023-06-22T07:48:29.609162",
          "status": "completed"
        },
        "tags": [],
        "id": "54c63542"
      },
      "outputs": [],
      "source": [
        "for col in numerical:\n",
        "    if col != 'FastingBS': # Skip this variable since it is skewed\n",
        "        p75 = df_heart[df_heart[col] > 0][col].quantile(0.75)\n",
        "        p25 = df_heart[df_heart[col] > 0][col].quantile(0.25)\n",
        "        iqr = p75 - p25\n",
        "        upper_limit = p75 + (1.5 * iqr)\n",
        "        print('===={} with Upper Limit {:6.1f}, P75 {:6.1f}, P25 {:6.1f}, {} Outlier Records ========'.format(col, upper_limit, p75, p25, df_heart[df_heart[col] > upper_limit]['HeartDisease'].count()))\n",
        "        df_heart[col] = np.where (df_heart[col] > upper_limit, upper_limit, df_heart[col])"
      ]
    },
    {
      "cell_type": "markdown",
      "id": "f2866325",
      "metadata": {
        "papermill": {
          "duration": 0.027115,
          "end_time": "2023-06-22T07:48:29.727490",
          "exception": false,
          "start_time": "2023-06-22T07:48:29.700375",
          "status": "completed"
        },
        "tags": [],
        "id": "f2866325"
      },
      "source": [
        "<div style=\" background-color:#d0312d;text-align:left; padding: 13px 13px; border-radius: 8px; color: white; font-size: 16px\">\n",
        "To replace abnormal Cholesterol and Oldpeak with Median of the features </div>"
      ]
    },
    {
      "cell_type": "code",
      "execution_count": null,
      "id": "5bf0ff3f",
      "metadata": {
        "execution": {
          "iopub.execute_input": "2023-06-22T07:48:29.784254Z",
          "iopub.status.busy": "2023-06-22T07:48:29.783848Z",
          "iopub.status.idle": "2023-06-22T07:48:29.794847Z",
          "shell.execute_reply": "2023-06-22T07:48:29.793232Z"
        },
        "papermill": {
          "duration": 0.042722,
          "end_time": "2023-06-22T07:48:29.797439",
          "exception": false,
          "start_time": "2023-06-22T07:48:29.754717",
          "status": "completed"
        },
        "tags": [],
        "id": "5bf0ff3f"
      },
      "outputs": [],
      "source": [
        "# For Cholesterol and Resting BP, we replace abnormal values with the median.\n",
        "median_Cholesterol = df_heart['Cholesterol'].median()\n",
        "median_RestingBP = df_heart['RestingBP'].median()\n",
        "\n",
        "# For Old Peak, we replace abnormal values with the 0.\n",
        "# median_Oldpeak = df_heart['Oldpeak'].median()\n",
        "\n",
        "df_heart['Cholesterol'] = np.where(df_heart['Cholesterol'] <= 70, median_Cholesterol, df_heart['Cholesterol'])\n",
        "df_heart['RestingBP'] = np.where(df_heart['RestingBP'] <= 50, median_RestingBP, df_heart['RestingBP'])\n",
        "df_heart['Oldpeak'] = np.where(df_heart['Oldpeak'] < 0, 0, df_heart['Oldpeak'])"
      ]
    },
    {
      "cell_type": "markdown",
      "id": "349087e1",
      "metadata": {
        "papermill": {
          "duration": 0.027263,
          "end_time": "2023-06-22T07:48:29.852744",
          "exception": false,
          "start_time": "2023-06-22T07:48:29.825481",
          "status": "completed"
        },
        "tags": [],
        "id": "349087e1"
      },
      "source": [
        "<div style=\" background-color:#d0312d;text-align:left; padding: 13px 13px; border-radius: 8px; color: white; font-size: 16px\">\n",
        "To update the Histogram to check for abnormal and outlier</div>"
      ]
    },
    {
      "cell_type": "code",
      "execution_count": null,
      "id": "3b015cc3",
      "metadata": {
        "execution": {
          "iopub.execute_input": "2023-06-22T07:48:29.910549Z",
          "iopub.status.busy": "2023-06-22T07:48:29.910147Z",
          "iopub.status.idle": "2023-06-22T07:48:31.473455Z",
          "shell.execute_reply": "2023-06-22T07:48:31.472284Z"
        },
        "papermill": {
          "duration": 1.595806,
          "end_time": "2023-06-22T07:48:31.476128",
          "exception": false,
          "start_time": "2023-06-22T07:48:29.880322",
          "status": "completed"
        },
        "tags": [],
        "id": "3b015cc3"
      },
      "outputs": [],
      "source": [
        "# Updated histogram after the outlier replacement\n",
        "# Histgram for numercial features\n",
        "fig, ax = plt.subplots(3, 2, figsize=(16,16))\n",
        "\n",
        "for i in range(0, 5):\n",
        "    sns.histplot(data=df_heart, x =df_heart[numerical[i]], bins=25, ax=ax[int(i/2),i % 2])"
      ]
    },
    {
      "cell_type": "markdown",
      "id": "f3af97b2",
      "metadata": {
        "papermill": {
          "duration": 0.029165,
          "end_time": "2023-06-22T07:48:31.534105",
          "exception": false,
          "start_time": "2023-06-22T07:48:31.504940",
          "status": "completed"
        },
        "tags": [],
        "id": "f3af97b2"
      },
      "source": [
        "<div style=\" background-color:#0A1172;text-align:left; padding: 13px 13px; border-radius: 8px; color: white; font-size: 16px\">\n",
        "Observation: the IRQ is used to remove outliers.  In addition, from the histograms, some values of rest BP, cholesterol and old peak are abnormal. We will replace the abnormal values.\n",
        "<br><br>\n",
        "After the replacement of missing values and handling of abnormal values, the histogram looks more rational. </div>"
      ]
    },
    {
      "cell_type": "markdown",
      "id": "5675211d",
      "metadata": {
        "papermill": {
          "duration": 0.02782,
          "end_time": "2023-06-22T07:48:31.590448",
          "exception": false,
          "start_time": "2023-06-22T07:48:31.562628",
          "status": "completed"
        },
        "tags": [],
        "id": "5675211d"
      },
      "source": [
        "# 4. Data Standardization and Encoding\n",
        "<div style=\" background-color:#3a5311;text-align:left; padding: 13px 13px; border-radius: 8px; color: white; font-size: 16px\">\n",
        "Objective: Data standardization is to pull all numerical variables into the same scale so that the discriminative power of features with high ranged value cannot dominate to the importance of target  due to high absolute value of features.  Data encoding is a process to convert categorical features into numerical values so that the distance between values in categorical features can be measured.\n",
        "</div>"
      ]
    },
    {
      "cell_type": "markdown",
      "id": "41dde91d",
      "metadata": {
        "papermill": {
          "duration": 0.027774,
          "end_time": "2023-06-22T07:48:31.647083",
          "exception": false,
          "start_time": "2023-06-22T07:48:31.619309",
          "status": "completed"
        },
        "tags": [],
        "id": "41dde91d"
      },
      "source": [
        "## 4.1 Numerical Features"
      ]
    },
    {
      "cell_type": "markdown",
      "id": "c64a0e8e",
      "metadata": {
        "papermill": {
          "duration": 0.027599,
          "end_time": "2023-06-22T07:48:31.702773",
          "exception": false,
          "start_time": "2023-06-22T07:48:31.675174",
          "status": "completed"
        },
        "tags": [],
        "id": "c64a0e8e"
      },
      "source": [
        "<div style=\" background-color:#d0312d;text-align:left; padding: 13px 13px; border-radius: 8px; color: white; font-size: 16px\">\n",
        "To standardize the numerical variables with the use of Robust Scaler.  The choice of Robust Scaler over Standard Scaler is  the capability to handle outliers. </div>\n"
      ]
    },
    {
      "cell_type": "code",
      "execution_count": null,
      "id": "f45468ee",
      "metadata": {
        "execution": {
          "iopub.execute_input": "2023-06-22T07:48:31.760798Z",
          "iopub.status.busy": "2023-06-22T07:48:31.760325Z",
          "iopub.status.idle": "2023-06-22T07:48:31.778568Z",
          "shell.execute_reply": "2023-06-22T07:48:31.777168Z"
        },
        "papermill": {
          "duration": 0.050393,
          "end_time": "2023-06-22T07:48:31.781292",
          "exception": false,
          "start_time": "2023-06-22T07:48:31.730899",
          "status": "completed"
        },
        "tags": [],
        "id": "f45468ee"
      },
      "outputs": [],
      "source": [
        "scaler = RobustScaler()\n",
        "encoder_num = scaler.fit_transform(df_heart[numerical])\n",
        "encoded_num = pd.DataFrame(encoder_num, columns =numerical)\n",
        "encoded_num.shape\n",
        "print(encoded_num.head(10))"
      ]
    },
    {
      "cell_type": "markdown",
      "id": "f1714587",
      "metadata": {
        "papermill": {
          "duration": 0.027858,
          "end_time": "2023-06-22T07:48:31.837543",
          "exception": false,
          "start_time": "2023-06-22T07:48:31.809685",
          "status": "completed"
        },
        "tags": [],
        "id": "f1714587"
      },
      "source": [
        "## 4.2 Categorical Features"
      ]
    },
    {
      "cell_type": "markdown",
      "id": "80c68923",
      "metadata": {
        "papermill": {
          "duration": 0.027983,
          "end_time": "2023-06-22T07:48:31.893942",
          "exception": false,
          "start_time": "2023-06-22T07:48:31.865959",
          "status": "completed"
        },
        "tags": [],
        "id": "80c68923"
      },
      "source": [
        "<div style=\" background-color:#d0312d;text-align:left; padding: 13px 13px; border-radius: 8px; color: white; font-size: 16px\">\n",
        "To visualize the distribution of feature values by categorical features </div>\n"
      ]
    },
    {
      "cell_type": "code",
      "execution_count": null,
      "id": "cb27cf0a",
      "metadata": {
        "execution": {
          "iopub.execute_input": "2023-06-22T07:48:31.953275Z",
          "iopub.status.busy": "2023-06-22T07:48:31.952851Z",
          "iopub.status.idle": "2023-06-22T07:48:32.865914Z",
          "shell.execute_reply": "2023-06-22T07:48:32.864781Z"
        },
        "papermill": {
          "duration": 0.946199,
          "end_time": "2023-06-22T07:48:32.868525",
          "exception": false,
          "start_time": "2023-06-22T07:48:31.922326",
          "status": "completed"
        },
        "tags": [],
        "id": "cb27cf0a"
      },
      "outputs": [],
      "source": [
        "fig, ax = plt.subplots (3, 2, figsize=(16, 16))\n",
        "ax_rst = []\n",
        "\n",
        "for i in range(len(categorical)):\n",
        "    axs = sns.countplot(data=df_heart, x =df_heart[categorical[i]], ax=ax[int(i/2),i % 2])\n",
        "    ax_rst.append(axs)\n",
        "    total = df_heart[categorical[i]].value_counts().sum()\n",
        "    for p in axs.patches:\n",
        "        value_pct = '{:.0f} ({:.1f}%)'.format(p.get_height(), 100 * p.get_height()/total)\n",
        "        x = p.get_x() + p.get_width()/2\n",
        "        y = p.get_height()\n",
        "        axs.annotate(value_pct, (x, y),ha='center')\n"
      ]
    },
    {
      "cell_type": "markdown",
      "id": "048efb82",
      "metadata": {
        "papermill": {
          "duration": 0.028782,
          "end_time": "2023-06-22T07:48:32.926691",
          "exception": false,
          "start_time": "2023-06-22T07:48:32.897909",
          "status": "completed"
        },
        "tags": [],
        "id": "048efb82"
      },
      "source": [
        "<div style=\" background-color:#d0312d;text-align:left; padding: 13px 13px; border-radius: 8px; color: white; font-size: 16px\">\n",
        "One-hot Encoding is used to convert categorical features into binary vectors.  Each unique category in the original data has been transformed into a binary vector, where each element of the vector represents whether or not that category is present in the original data for that particular row.\n",
        " </div>\n"
      ]
    },
    {
      "cell_type": "code",
      "execution_count": null,
      "id": "014279db",
      "metadata": {
        "execution": {
          "iopub.execute_input": "2023-06-22T07:48:32.988670Z",
          "iopub.status.busy": "2023-06-22T07:48:32.988226Z",
          "iopub.status.idle": "2023-06-22T07:48:33.016055Z",
          "shell.execute_reply": "2023-06-22T07:48:33.014653Z"
        },
        "papermill": {
          "duration": 0.06207,
          "end_time": "2023-06-22T07:48:33.019217",
          "exception": false,
          "start_time": "2023-06-22T07:48:32.957147",
          "status": "completed"
        },
        "tags": [],
        "id": "014279db"
      },
      "outputs": [],
      "source": [
        "# Call the One-hot Encoder\n",
        "encoder = OneHotEncoder()\n",
        "\n",
        "# print(categorical)\n",
        "\n",
        "#for col in categorical:\n",
        "encoder_cat = encoder.fit_transform(df_heart[categorical])\n",
        "# encoded_cat = pd.DataFrame(encoder_cat.toarray(), columns=['Sex_F', 'Sex_M', 'ChestPainType_ASY', 'ChestPainType_ATA',\n",
        "#        'ChestPainType_NAP', 'ChestPainType_TA', 'RestingECG_LVH', 'RestingECG_Normal', 'RestingECG_ST', 'ExerciseAngina_N',\n",
        "#        'ExerciseAngina_Y', 'ST_Slope_Down', 'ST_Slope_Flat', 'ST_Slope_Up', 'FastingBS_0', 'FastingBS_1'])\n",
        "encoded_cat = pd.DataFrame(encoder_cat.toarray(), columns=encoder.get_feature_names_out().tolist())\n",
        "\n",
        "\n",
        "print(encoded_cat.head(5))\n",
        "\n",
        "# encoded_cat.columns = encoded_cat.columns.str.replace('[#,@,&]()', '')"
      ]
    },
    {
      "cell_type": "markdown",
      "id": "018c92ff",
      "metadata": {
        "papermill": {
          "duration": 0.028997,
          "end_time": "2023-06-22T07:48:33.077471",
          "exception": false,
          "start_time": "2023-06-22T07:48:33.048474",
          "status": "completed"
        },
        "tags": [],
        "id": "018c92ff"
      },
      "source": [
        "<div style=\" background-color:#0A1172;text-align:left; padding: 13px 13px; border-radius: 8px; color: white; font-size: 16px\">\n",
        "Observation: With data encoding, the categorical features are converted into binary vectors which can be used as inputs to most modeling algorithms. </div>"
      ]
    },
    {
      "cell_type": "markdown",
      "id": "d3849dd0",
      "metadata": {
        "papermill": {
          "duration": 0.028814,
          "end_time": "2023-06-22T07:48:33.135401",
          "exception": false,
          "start_time": "2023-06-22T07:48:33.106587",
          "status": "completed"
        },
        "tags": [],
        "id": "d3849dd0"
      },
      "source": [
        "# 5. Model preparation"
      ]
    },
    {
      "cell_type": "markdown",
      "id": "8ae8a9d0",
      "metadata": {
        "papermill": {
          "duration": 0.028793,
          "end_time": "2023-06-22T07:48:33.193451",
          "exception": false,
          "start_time": "2023-06-22T07:48:33.164658",
          "status": "completed"
        },
        "tags": [],
        "id": "8ae8a9d0"
      },
      "source": [
        "<div style=\" background-color:#d0312d;text-align:left; padding: 13px 13px; border-radius: 8px; color: white; font-size: 16px\">\n",
        "The first step is to set up the training data set.  Next, the training data set is split into training and testing data sets for modelling.  Different modelling algorithms are used for performance comparison.  </div>"
      ]
    },
    {
      "cell_type": "code",
      "execution_count": null,
      "id": "0c5ce10b",
      "metadata": {
        "execution": {
          "iopub.execute_input": "2023-06-22T07:48:33.255497Z",
          "iopub.status.busy": "2023-06-22T07:48:33.254840Z",
          "iopub.status.idle": "2023-06-22T07:48:33.273145Z",
          "shell.execute_reply": "2023-06-22T07:48:33.271725Z"
        },
        "papermill": {
          "duration": 0.052392,
          "end_time": "2023-06-22T07:48:33.275587",
          "exception": false,
          "start_time": "2023-06-22T07:48:33.223195",
          "status": "completed"
        },
        "tags": [],
        "id": "0c5ce10b"
      },
      "outputs": [],
      "source": [
        "# Prepare the training data set\n",
        "df_train = df_heart.copy()\n",
        "df_train.info()"
      ]
    },
    {
      "cell_type": "markdown",
      "id": "268378df",
      "metadata": {
        "papermill": {
          "duration": 0.028829,
          "end_time": "2023-06-22T07:48:33.333694",
          "exception": false,
          "start_time": "2023-06-22T07:48:33.304865",
          "status": "completed"
        },
        "tags": [],
        "id": "268378df"
      },
      "source": [
        "## 5.1 Preparation of Modelling data set"
      ]
    },
    {
      "cell_type": "markdown",
      "id": "441c63eb",
      "metadata": {
        "papermill": {
          "duration": 0.02891,
          "end_time": "2023-06-22T07:48:33.391861",
          "exception": false,
          "start_time": "2023-06-22T07:48:33.362951",
          "status": "completed"
        },
        "tags": [],
        "id": "441c63eb"
      },
      "source": [
        "<div style=\" background-color:#d0312d;text-align:left; padding: 13px 13px; border-radius: 8px; color: white; font-size: 16px\">\n",
        "This step is to set up the data set for modelling based on the standardized and encoded features in the previous steps.  </div>"
      ]
    },
    {
      "cell_type": "code",
      "execution_count": null,
      "id": "72a4be3d",
      "metadata": {
        "execution": {
          "iopub.execute_input": "2023-06-22T07:48:33.452781Z",
          "iopub.status.busy": "2023-06-22T07:48:33.452355Z",
          "iopub.status.idle": "2023-06-22T07:48:33.502578Z",
          "shell.execute_reply": "2023-06-22T07:48:33.501283Z"
        },
        "papermill": {
          "duration": 0.084276,
          "end_time": "2023-06-22T07:48:33.505274",
          "exception": false,
          "start_time": "2023-06-22T07:48:33.420998",
          "status": "completed"
        },
        "tags": [],
        "id": "72a4be3d"
      },
      "outputs": [],
      "source": [
        "df_train.drop(numerical, axis=1, inplace=True)\n",
        "df_train.drop(categorical, axis=1, inplace=True)\n",
        "df_train = pd.concat([df_train, encoded_num, encoded_cat], axis=1)\n",
        "df_train.head(10)"
      ]
    },
    {
      "cell_type": "markdown",
      "id": "7bc69ca8",
      "metadata": {
        "papermill": {
          "duration": 0.031489,
          "end_time": "2023-06-22T07:48:33.567342",
          "exception": false,
          "start_time": "2023-06-22T07:48:33.535853",
          "status": "completed"
        },
        "tags": [],
        "id": "7bc69ca8"
      },
      "source": [
        "<div style=\" background-color:#d0312d;text-align:left; padding: 13px 13px; border-radius: 8px; color: white; font-size: 16px\">\n",
        "To prepare the training and testing data sets.   </div>"
      ]
    },
    {
      "cell_type": "code",
      "execution_count": null,
      "id": "6515141d",
      "metadata": {
        "execution": {
          "iopub.execute_input": "2023-06-22T07:48:33.629641Z",
          "iopub.status.busy": "2023-06-22T07:48:33.629229Z",
          "iopub.status.idle": "2023-06-22T07:48:33.635805Z",
          "shell.execute_reply": "2023-06-22T07:48:33.634669Z"
        },
        "papermill": {
          "duration": 0.04055,
          "end_time": "2023-06-22T07:48:33.638291",
          "exception": false,
          "start_time": "2023-06-22T07:48:33.597741",
          "status": "completed"
        },
        "tags": [],
        "id": "6515141d"
      },
      "outputs": [],
      "source": [
        "# The first column is the target label\n",
        "y = df_train.iloc[:,0:1]\n",
        "\n",
        "# The rest of columns are features\n",
        "X = df_train.iloc[:,1:]"
      ]
    },
    {
      "cell_type": "code",
      "execution_count": null,
      "id": "e8d92927",
      "metadata": {
        "execution": {
          "iopub.execute_input": "2023-06-22T07:48:33.701928Z",
          "iopub.status.busy": "2023-06-22T07:48:33.701018Z",
          "iopub.status.idle": "2023-06-22T07:48:33.711209Z",
          "shell.execute_reply": "2023-06-22T07:48:33.709861Z"
        },
        "papermill": {
          "duration": 0.045086,
          "end_time": "2023-06-22T07:48:33.713667",
          "exception": false,
          "start_time": "2023-06-22T07:48:33.668581",
          "status": "completed"
        },
        "tags": [],
        "id": "e8d92927"
      },
      "outputs": [],
      "source": [
        "X_train, X_test, y_train, y_test = model_selection.train_test_split(X, y, test_size=0.3)\n",
        "print('size of X_train {} and y_train {}'.format (X_train.shape, y_train.shape))\n",
        "print('size of X_test {} and y_test {}'.format (X_test.shape, y_test.shape))"
      ]
    },
    {
      "cell_type": "code",
      "execution_count": null,
      "id": "e66ec32c",
      "metadata": {
        "execution": {
          "iopub.execute_input": "2023-06-22T07:48:33.777322Z",
          "iopub.status.busy": "2023-06-22T07:48:33.776624Z",
          "iopub.status.idle": "2023-06-22T07:48:33.827104Z",
          "shell.execute_reply": "2023-06-22T07:48:33.825941Z"
        },
        "papermill": {
          "duration": 0.085133,
          "end_time": "2023-06-22T07:48:33.829932",
          "exception": false,
          "start_time": "2023-06-22T07:48:33.744799",
          "status": "completed"
        },
        "tags": [],
        "id": "e66ec32c"
      },
      "outputs": [],
      "source": [
        "X_train.head(10)"
      ]
    },
    {
      "cell_type": "markdown",
      "id": "be813346",
      "metadata": {
        "papermill": {
          "duration": 0.030931,
          "end_time": "2023-06-22T07:48:33.892122",
          "exception": false,
          "start_time": "2023-06-22T07:48:33.861191",
          "status": "completed"
        },
        "tags": [],
        "id": "be813346"
      },
      "source": [
        "\n",
        "<div style=\" background-color:#d0312d;text-align:left; padding: 13px 13px; border-radius: 8px; color: white; font-size: 16px\">\n",
        "This function is used to log model performance for comparison. </div>"
      ]
    },
    {
      "cell_type": "code",
      "execution_count": null,
      "id": "705723c5",
      "metadata": {
        "execution": {
          "iopub.execute_input": "2023-06-22T07:48:33.956329Z",
          "iopub.status.busy": "2023-06-22T07:48:33.955893Z",
          "iopub.status.idle": "2023-06-22T07:48:33.970089Z",
          "shell.execute_reply": "2023-06-22T07:48:33.968921Z"
        },
        "papermill": {
          "duration": 0.049825,
          "end_time": "2023-06-22T07:48:33.973234",
          "exception": false,
          "start_time": "2023-06-22T07:48:33.923409",
          "status": "completed"
        },
        "tags": [],
        "id": "705723c5"
      },
      "outputs": [],
      "source": [
        "# Dataframe for performance comparison\n",
        "df_performance = pd.DataFrame(columns=['Model', 'Balanced Accuracy', 'Accuracy', 'Precision', 'F1', 'Recall', 'ROC AUC'])\n",
        "df_performance"
      ]
    },
    {
      "cell_type": "code",
      "execution_count": null,
      "id": "fbbd91c5",
      "metadata": {
        "_kg_hide-input": true,
        "execution": {
          "iopub.execute_input": "2023-06-22T07:48:34.039376Z",
          "iopub.status.busy": "2023-06-22T07:48:34.038571Z",
          "iopub.status.idle": "2023-06-22T07:48:34.068092Z",
          "shell.execute_reply": "2023-06-22T07:48:34.067019Z"
        },
        "papermill": {
          "duration": 0.065082,
          "end_time": "2023-06-22T07:48:34.070822",
          "exception": false,
          "start_time": "2023-06-22T07:48:34.005740",
          "status": "completed"
        },
        "tags": [],
        "id": "fbbd91c5"
      },
      "outputs": [],
      "source": [
        "def model_performance (p_test, p_train, p_test_prob, p_train_prob, Y_test, y_train, model_name):\n",
        "    global df_performance\n",
        "    predicted_test = pd.DataFrame(p_test)\n",
        "    predicted_train = pd.DataFrame(p_train)\n",
        "    print('=============================================')\n",
        "    print('Scoring Metrics for {} (Validation)'.format(model_name))\n",
        "    print('=============================================')\n",
        "    print('Balanced Accuracy Score = {:2.3f}'.format(metrics.balanced_accuracy_score(Y_test, predicted_test)))\n",
        "    print('Accuracy Score = {:2.3f}'.format(metrics.accuracy_score(Y_test, predicted_test)))\n",
        "    print('Precision Score = {:2.3f}'.format(metrics.precision_score(Y_test, predicted_test)))\n",
        "    print('F1 Score = {:2.3f}'.format(metrics.f1_score(Y_test, predicted_test, labels=['0','1'])))\n",
        "    print('Recall Score = {:2.3f}'.format(metrics.recall_score(Y_test, predicted_test, labels=['0','1'])))\n",
        "    print('ROC AUC Score = {:2.3f}'.format(metrics.roc_auc_score(Y_test, predicted_test, labels=['0','1'])))\n",
        "    print('Confusion Matrix')\n",
        "    print('==================')\n",
        "    print(metrics.confusion_matrix(Y_test, predicted_test))\n",
        "    print('==================')\n",
        "    print(metrics.classification_report(Y_test, predicted_test, target_names=['0','1']))\n",
        "    metrics.ConfusionMatrixDisplay(metrics.confusion_matrix(Y_test, predicted_test)).plot()\n",
        "\n",
        "    df_performance = pd.concat([df_performance,pd.DataFrame([{'Model':model_name\n",
        "                                            , 'Balanced Accuracy': metrics.balanced_accuracy_score(Y_test, predicted_test)\n",
        "                                            , 'Accuracy' :metrics.accuracy_score(Y_test, predicted_test)\n",
        "                                            , 'Precision' :metrics.precision_score(Y_test, predicted_test)\n",
        "                                            , 'F1':metrics.f1_score(Y_test, predicted_test, labels=['0','1'])\n",
        "                                            , 'Recall': metrics.recall_score(Y_test, predicted_test, labels=['0','1'])\n",
        "                                            , 'ROC AUC': metrics.roc_auc_score(Y_test, predicted_test, labels=['0','1'])\n",
        "                                           }])])\n",
        "\n",
        "    # ROC Curve\n",
        "    fpr_test, tpr_test, _ = metrics.roc_curve(Y_test, p_test_prob)\n",
        "\n",
        "    roc_auc_test = metrics.roc_auc_score(Y_test, predicted_test, labels=['0','1'])\n",
        "\n",
        "    # Precision x Recall Curve\n",
        "    precision_test, recall_test, thresholds_test = metrics.precision_recall_curve(Y_test, p_test_prob)\n",
        "\n",
        "    print('=============================================')\n",
        "    print('Scoring Metrics for {} (Training)'.format(model_name))\n",
        "    print('=============================================')\n",
        "    print('Balanced Accuracy Score = {:2.3f}'.format(metrics.balanced_accuracy_score(y_train, predicted_train)))\n",
        "    print('Accuracy Score = {:2.3f}'.format(metrics.accuracy_score(y_train, predicted_train)))\n",
        "    print('Precision Score = {:2.3f}'.format(metrics.precision_score(y_train, predicted_train)))\n",
        "    print('F1 Score = {:2.3f}'.format(metrics.f1_score(y_train, predicted_train)))\n",
        "    print('Recall Score = {:2.3f}'.format(metrics.recall_score(y_train, predicted_train, labels=['0','1'])))\n",
        "    print('ROC AUC Score = {:2.3f}'.format(metrics.roc_auc_score(y_train, predicted_train, labels=['0','1'])))\n",
        "    print('Confusion Matrix')\n",
        "    print('==================')\n",
        "    print(metrics.confusion_matrix(y_train, predicted_train))\n",
        "    print('==================')\n",
        "    print(metrics.classification_report(y_train, predicted_train, target_names=['0','1']))\n",
        "    metrics.ConfusionMatrixDisplay(metrics.confusion_matrix(y_train, predicted_train)).plot()\n",
        "\n",
        "    fpr_train, tpr_train, _ = metrics.roc_curve(y_train, p_train_prob)\n",
        "\n",
        "    roc_auc_train = metrics.roc_auc_score(y_train, predicted_train, labels=['0','1'])\n",
        "\n",
        "\n",
        "    print('======= ROC Curve =======')\n",
        "    fig, ax = plt.subplots(1, 1, figsize=(12, 5))\n",
        "    plt.plot(fpr_test, tpr_test, color='darkorange', label='ROC curve - Validation (area = %0.3f)' % roc_auc_test)\n",
        "    plt.plot(fpr_train, tpr_train, color='darkblue', label='ROC curve - Training (area = %0.3f)' % roc_auc_train)\n",
        "    plt.plot([0, 1], [0, 1], color='navy', lw=2, linestyle='--')\n",
        "    # plt.xlim([0.0, 1.0])\n",
        "    # plt.ylim([0.0, 1.05])\n",
        "    plt.xlabel('False Positive Rate')\n",
        "    plt.ylabel('True Positive Rate')\n",
        "    plt.title('ROC Curve')\n",
        "    plt.legend(loc=\"lower right\")\n",
        "\n",
        "\n",
        "    plt.show()"
      ]
    },
    {
      "cell_type": "markdown",
      "id": "444c1034",
      "metadata": {
        "papermill": {
          "duration": 0.052431,
          "end_time": "2023-06-22T07:53:50.867156",
          "exception": false,
          "start_time": "2023-06-22T07:53:50.814725",
          "status": "completed"
        },
        "tags": [],
        "id": "444c1034"
      },
      "source": [
        "# 6. AutoML - Autogluon"
      ]
    },
    {
      "cell_type": "markdown",
      "id": "b4ecf6ac",
      "metadata": {
        "papermill": {
          "duration": 0.05508,
          "end_time": "2023-06-22T07:53:50.974472",
          "exception": false,
          "start_time": "2023-06-22T07:53:50.919392",
          "status": "completed"
        },
        "tags": [],
        "id": "b4ecf6ac"
      },
      "source": [
        "## 6.1 Install the Autogluon Packages"
      ]
    },
    {
      "cell_type": "code",
      "source": [
        "try:\n",
        "    import autogluon\n",
        "    print(\"AutoGluon is installed.\")\n",
        "except ImportError:\n",
        "    print(\"AutoGluon is not installed.\")"
      ],
      "metadata": {
        "id": "6oBcssnwa8Y1"
      },
      "id": "6oBcssnwa8Y1",
      "execution_count": null,
      "outputs": []
    },
    {
      "cell_type": "code",
      "execution_count": null,
      "id": "55a019a6",
      "metadata": {
        "_kg_hide-output": true,
        "execution": {
          "iopub.execute_input": "2023-06-22T07:53:51.081373Z",
          "iopub.status.busy": "2023-06-22T07:53:51.080956Z",
          "iopub.status.idle": "2023-06-22T07:55:02.085582Z",
          "shell.execute_reply": "2023-06-22T07:55:02.084122Z"
        },
        "papermill": {
          "duration": 71.061997,
          "end_time": "2023-06-22T07:55:02.088811",
          "exception": false,
          "start_time": "2023-06-22T07:53:51.026814",
          "status": "completed"
        },
        "tags": [],
        "id": "55a019a6"
      },
      "outputs": [],
      "source": [
        "# Run this if autogluon is not already installed\n",
        "# !pip install \"mxnet<2.0.0\"\n",
        "# !pip install autogluon\n",
        "\n",
        "#!pip install autogluon\n",
        "import os,warnings,sys\n",
        "import numpy as np\n",
        "import torch as tc\n",
        "from tqdm import tqdm\n",
        "import pandas as pd\n",
        "warnings.filterwarnings(\"ignore\")\n",
        "from autogluon.tabular import TabularDataset, TabularPredictor\n",
        "import matplotlib.pyplot as plt\n"
      ]
    },
    {
      "cell_type": "markdown",
      "id": "1adc9d29",
      "metadata": {
        "papermill": {
          "duration": 0.067357,
          "end_time": "2023-06-22T07:55:02.223732",
          "exception": false,
          "start_time": "2023-06-22T07:55:02.156375",
          "status": "completed"
        },
        "tags": [],
        "id": "1adc9d29"
      },
      "source": [
        "## 6.2 Model Training"
      ]
    },
    {
      "cell_type": "code",
      "execution_count": null,
      "id": "c3f52e8a",
      "metadata": {
        "_kg_hide-input": true,
        "_kg_hide-output": true,
        "execution": {
          "iopub.execute_input": "2023-06-22T07:55:02.364019Z",
          "iopub.status.busy": "2023-06-22T07:55:02.362262Z",
          "iopub.status.idle": "2023-06-22T07:55:02.412962Z",
          "shell.execute_reply": "2023-06-22T07:55:02.411993Z"
        },
        "papermill": {
          "duration": 0.122146,
          "end_time": "2023-06-22T07:55:02.415283",
          "exception": false,
          "start_time": "2023-06-22T07:55:02.293137",
          "status": "completed"
        },
        "tags": [],
        "id": "c3f52e8a"
      },
      "outputs": [],
      "source": [
        "# Training models\n",
        "X_autogluon = pd.concat([X_train, y_train], axis=1)\n",
        "X_autogluon.head(10)\n"
      ]
    },
    {
      "cell_type": "code",
      "execution_count": null,
      "id": "a93f54dd",
      "metadata": {
        "_kg_hide-output": true,
        "execution": {
          "iopub.execute_input": "2023-06-22T07:55:02.553295Z",
          "iopub.status.busy": "2023-06-22T07:55:02.552506Z",
          "iopub.status.idle": "2023-06-22T07:56:53.967551Z",
          "shell.execute_reply": "2023-06-22T07:56:53.965949Z"
        },
        "papermill": {
          "duration": 111.487629,
          "end_time": "2023-06-22T07:56:53.970956",
          "exception": false,
          "start_time": "2023-06-22T07:55:02.483327",
          "status": "completed"
        },
        "tags": [],
        "id": "a93f54dd"
      },
      "outputs": [],
      "source": [
        "from autogluon.tabular import TabularDataset, TabularPredictor\n",
        "\n",
        "Gluon_automl = TabularPredictor(label='HeartDisease', eval_metric='roc_auc').fit(X_autogluon, presets='best_quality')"
      ]
    },
    {
      "cell_type": "markdown",
      "id": "de19c450",
      "metadata": {
        "papermill": {
          "duration": 0.095159,
          "end_time": "2023-06-22T07:56:54.184031",
          "exception": false,
          "start_time": "2023-06-22T07:56:54.088872",
          "status": "completed"
        },
        "tags": [],
        "id": "de19c450"
      },
      "source": [
        "## 6.3. Model Performance"
      ]
    },
    {
      "cell_type": "code",
      "execution_count": null,
      "id": "87294747",
      "metadata": {
        "execution": {
          "iopub.execute_input": "2023-06-22T07:56:54.345951Z",
          "iopub.status.busy": "2023-06-22T07:56:54.345095Z",
          "iopub.status.idle": "2023-06-22T07:56:57.941302Z",
          "shell.execute_reply": "2023-06-22T07:56:57.939969Z"
        },
        "papermill": {
          "duration": 3.680171,
          "end_time": "2023-06-22T07:56:57.944426",
          "exception": false,
          "start_time": "2023-06-22T07:56:54.264255",
          "status": "completed"
        },
        "tags": [],
        "id": "87294747"
      },
      "outputs": [],
      "source": [
        "p_train_AutoGluon = Gluon_automl.predict(X_train)\n",
        "p_test_AutoGluon = Gluon_automl.predict(X_test)\n",
        "p_train_proba_AutoGluon = Gluon_automl.predict_proba(X_train).iloc[:,1]\n",
        "p_test_proba_AutoGluon = Gluon_automl.predict_proba(X_test).iloc[:,1]\n"
      ]
    },
    {
      "cell_type": "code",
      "execution_count": null,
      "id": "bee5d138",
      "metadata": {
        "execution": {
          "iopub.execute_input": "2023-06-22T07:56:58.115386Z",
          "iopub.status.busy": "2023-06-22T07:56:58.114293Z",
          "iopub.status.idle": "2023-06-22T07:56:58.901799Z",
          "shell.execute_reply": "2023-06-22T07:56:58.900562Z"
        },
        "papermill": {
          "duration": 0.876748,
          "end_time": "2023-06-22T07:56:58.904674",
          "exception": false,
          "start_time": "2023-06-22T07:56:58.027926",
          "status": "completed"
        },
        "tags": [],
        "id": "bee5d138"
      },
      "outputs": [],
      "source": [
        "model_performance(p_test_AutoGluon, p_train_AutoGluon, p_test_proba_AutoGluon, p_train_proba_AutoGluon, y_test, y_train, 'AutoGluon')"
      ]
    },
    {
      "cell_type": "markdown",
      "id": "b750725b",
      "metadata": {
        "papermill": {
          "duration": 0.081649,
          "end_time": "2023-06-22T07:56:59.070877",
          "exception": false,
          "start_time": "2023-06-22T07:56:58.989228",
          "status": "completed"
        },
        "tags": [],
        "id": "b750725b"
      },
      "source": [
        "# 7. AutoML - FLAML"
      ]
    },
    {
      "cell_type": "markdown",
      "id": "ceeb7249",
      "metadata": {
        "papermill": {
          "duration": 0.081028,
          "end_time": "2023-06-22T07:56:59.233654",
          "exception": false,
          "start_time": "2023-06-22T07:56:59.152626",
          "status": "completed"
        },
        "tags": [],
        "id": "ceeb7249"
      },
      "source": [
        "## 7.1 Install the FLAML Packages"
      ]
    },
    {
      "cell_type": "code",
      "execution_count": null,
      "id": "d9c58e30",
      "metadata": {
        "_kg_hide-output": true,
        "execution": {
          "iopub.execute_input": "2023-06-22T07:56:59.397231Z",
          "iopub.status.busy": "2023-06-22T07:56:59.396737Z",
          "iopub.status.idle": "2023-06-22T07:57:15.385935Z",
          "shell.execute_reply": "2023-06-22T07:57:15.384661Z"
        },
        "papermill": {
          "duration": 16.075134,
          "end_time": "2023-06-22T07:57:15.389121",
          "exception": false,
          "start_time": "2023-06-22T07:56:59.313987",
          "status": "completed"
        },
        "tags": [],
        "id": "d9c58e30"
      },
      "outputs": [],
      "source": [
        "# Install  the FLAML package\n",
        "#!pip install flaml\n",
        "from flaml import AutoML"
      ]
    },
    {
      "cell_type": "markdown",
      "id": "0fec6a5b",
      "metadata": {
        "papermill": {
          "duration": 0.082128,
          "end_time": "2023-06-22T07:57:15.555027",
          "exception": false,
          "start_time": "2023-06-22T07:57:15.472899",
          "status": "completed"
        },
        "tags": [],
        "id": "0fec6a5b"
      },
      "source": [
        "## 7.2. Model Training"
      ]
    },
    {
      "cell_type": "code",
      "execution_count": null,
      "id": "a7955cc0",
      "metadata": {
        "_kg_hide-output": true,
        "execution": {
          "iopub.execute_input": "2023-06-22T07:57:15.719283Z",
          "iopub.status.busy": "2023-06-22T07:57:15.718839Z",
          "iopub.status.idle": "2023-06-22T08:00:15.810350Z",
          "shell.execute_reply": "2023-06-22T08:00:15.809306Z"
        },
        "papermill": {
          "duration": 180.178664,
          "end_time": "2023-06-22T08:00:15.813367",
          "exception": false,
          "start_time": "2023-06-22T07:57:15.634703",
          "status": "completed"
        },
        "tags": [],
        "id": "a7955cc0"
      },
      "outputs": [],
      "source": [
        "# Initialize an AutoML instance\n",
        "FL_automl = AutoML()\n",
        "\n",
        "# Specify automl goal and constraint\n",
        "FL_automl_settings = {\n",
        "    # in seconds\n",
        "#    \"time_budget\": 120,\n",
        "    \"time_budget\": 60,\n",
        "    \"metric\": 'accuracy',\n",
        "    \"task\": 'classification',\n",
        "    \"verbose\": 0,\n",
        "    \"n_jobs\": -1,\n",
        "    \"eval_method\": 'cv',\n",
        "    \"n_splits\":5\n",
        "}\n",
        "\n",
        "# Train with labeled input data\n",
        "#FL_automl.fit(X_train, y_train, task=\"regression\", time_budget=60, **other_settings)\n",
        "\n",
        "FL_automl.fit(X_train, y_train.to_numpy(), **FL_automl_settings)\n"
      ]
    },
    {
      "cell_type": "code",
      "execution_count": null,
      "id": "97c6cd16",
      "metadata": {
        "execution": {
          "iopub.execute_input": "2023-06-22T08:00:16.050712Z",
          "iopub.status.busy": "2023-06-22T08:00:16.050265Z",
          "iopub.status.idle": "2023-06-22T08:00:16.057289Z",
          "shell.execute_reply": "2023-06-22T08:00:16.055957Z"
        },
        "papermill": {
          "duration": 0.165248,
          "end_time": "2023-06-22T08:00:16.060118",
          "exception": false,
          "start_time": "2023-06-22T08:00:15.894870",
          "status": "completed"
        },
        "tags": [],
        "id": "97c6cd16"
      },
      "outputs": [],
      "source": [
        "print('Best ML leaner:', FL_automl.best_estimator)\n",
        "print('Best hyperparmeter config:', FL_automl.best_config)\n",
        "print('Training duration of best run: {0:.4g} s', FL_automl.best_config_train_time)"
      ]
    },
    {
      "cell_type": "markdown",
      "id": "f17630ad",
      "metadata": {
        "papermill": {
          "duration": 0.079576,
          "end_time": "2023-06-22T08:00:16.221318",
          "exception": false,
          "start_time": "2023-06-22T08:00:16.141742",
          "status": "completed"
        },
        "tags": [],
        "id": "f17630ad"
      },
      "source": [
        "## 7.3. Model Performance"
      ]
    },
    {
      "cell_type": "code",
      "execution_count": null,
      "id": "dc8d9736",
      "metadata": {
        "execution": {
          "iopub.execute_input": "2023-06-22T08:00:16.381963Z",
          "iopub.status.busy": "2023-06-22T08:00:16.381484Z",
          "iopub.status.idle": "2023-06-22T08:00:16.445691Z",
          "shell.execute_reply": "2023-06-22T08:00:16.444706Z"
        },
        "papermill": {
          "duration": 0.147505,
          "end_time": "2023-06-22T08:00:16.448509",
          "exception": false,
          "start_time": "2023-06-22T08:00:16.301004",
          "status": "completed"
        },
        "tags": [],
        "id": "dc8d9736"
      },
      "outputs": [],
      "source": [
        "p_train_FLAML = FL_automl.predict(X_train)\n",
        "p_test_FLAML = FL_automl.predict(X_test)\n",
        "p_train_proba_FLAML = FL_automl.predict_proba(X_train)[:,1]\n",
        "p_test_proba_FLAML = FL_automl.predict_proba(X_test)[:,1]"
      ]
    },
    {
      "cell_type": "code",
      "execution_count": null,
      "id": "f194f959",
      "metadata": {
        "execution": {
          "iopub.execute_input": "2023-06-22T08:00:16.615380Z",
          "iopub.status.busy": "2023-06-22T08:00:16.614318Z",
          "iopub.status.idle": "2023-06-22T08:00:17.400720Z",
          "shell.execute_reply": "2023-06-22T08:00:17.399416Z"
        },
        "papermill": {
          "duration": 0.870315,
          "end_time": "2023-06-22T08:00:17.403531",
          "exception": false,
          "start_time": "2023-06-22T08:00:16.533216",
          "status": "completed"
        },
        "tags": [],
        "id": "f194f959"
      },
      "outputs": [],
      "source": [
        "model_performance(p_test_FLAML, p_train_FLAML, p_test_proba_FLAML, p_train_proba_FLAML, y_test, y_train, 'FLAML')"
      ]
    },
    {
      "cell_type": "markdown",
      "id": "0e951909",
      "metadata": {
        "papermill": {
          "duration": 0.082411,
          "end_time": "2023-06-22T08:00:17.571505",
          "exception": false,
          "start_time": "2023-06-22T08:00:17.489094",
          "status": "completed"
        },
        "tags": [],
        "id": "0e951909"
      },
      "source": [
        "# 8. Model Performance Comparison and Observation"
      ]
    },
    {
      "cell_type": "markdown",
      "id": "30dc45cb",
      "metadata": {
        "papermill": {
          "duration": 0.085503,
          "end_time": "2023-06-22T08:00:17.740924",
          "exception": false,
          "start_time": "2023-06-22T08:00:17.655421",
          "status": "completed"
        },
        "tags": [],
        "id": "30dc45cb"
      },
      "source": [
        "## 8.1. Performance Comparison for AutoML Packgaes\n"
      ]
    },
    {
      "cell_type": "code",
      "execution_count": null,
      "id": "12e45ea1",
      "metadata": {
        "execution": {
          "iopub.execute_input": "2023-06-22T08:00:17.910715Z",
          "iopub.status.busy": "2023-06-22T08:00:17.910286Z",
          "iopub.status.idle": "2023-06-22T08:00:17.931622Z",
          "shell.execute_reply": "2023-06-22T08:00:17.930108Z"
        },
        "papermill": {
          "duration": 0.10897,
          "end_time": "2023-06-22T08:00:17.934132",
          "exception": false,
          "start_time": "2023-06-22T08:00:17.825162",
          "status": "completed"
        },
        "tags": [],
        "id": "12e45ea1"
      },
      "outputs": [],
      "source": [
        "df_performance = df_performance.round(2)\n",
        "df_performance"
      ]
    },
    {
      "cell_type": "code",
      "execution_count": null,
      "id": "d973195d",
      "metadata": {
        "execution": {
          "iopub.execute_input": "2023-06-22T08:00:18.101686Z",
          "iopub.status.busy": "2023-06-22T08:00:18.101262Z",
          "iopub.status.idle": "2023-06-22T08:00:19.057142Z",
          "shell.execute_reply": "2023-06-22T08:00:19.055908Z"
        },
        "papermill": {
          "duration": 1.042863,
          "end_time": "2023-06-22T08:00:19.059901",
          "exception": false,
          "start_time": "2023-06-22T08:00:18.017038",
          "status": "completed"
        },
        "tags": [],
        "id": "d973195d"
      },
      "outputs": [],
      "source": [
        "cols_review = df_performance['Model'].values.tolist()\n",
        "\n",
        "fig, axs = plt.subplots(3, 2, figsize=(15,14), squeeze=False)\n",
        "\n",
        "sns.set(style=\"darkgrid\")\n",
        "ax = sns.barplot(x = cols_review, y = df_performance['Balanced Accuracy'], alpha=0.9,ax = axs[0][0])\n",
        "ax.bar_label(ax.containers[0])\n",
        "ax = sns.barplot(x = cols_review, y = df_performance['Accuracy'], alpha=0.9,ax = axs[0][1])\n",
        "ax.bar_label(ax.containers[0])\n",
        "ax = sns.barplot(x = cols_review, y = df_performance['Precision'], alpha=0.9,ax = axs[1][0])\n",
        "ax.bar_label(ax.containers[0])\n",
        "ax = sns.barplot(x = cols_review, y = df_performance['F1'], alpha=0.9,ax = axs[1][1])\n",
        "ax.bar_label(ax.containers[0])\n",
        "ax = sns.barplot(x = cols_review, y = df_performance['Recall'], alpha=0.9,ax = axs[2][0])\n",
        "ax.bar_label(ax.containers[0])\n",
        "ax = sns.barplot(x = cols_review, y = df_performance['ROC AUC'], alpha=0.9,ax = axs[2][1])\n",
        "ax.bar_label(ax.containers[0])\n",
        "\n",
        "plt.tight_layout()\n",
        "fig.autofmt_xdate(rotation=90)\n",
        "\n",
        "\n",
        "plt.show()"
      ]
    },
    {
      "cell_type": "code",
      "source": [],
      "metadata": {
        "id": "kiF2RDxFyGNy"
      },
      "id": "kiF2RDxFyGNy",
      "execution_count": null,
      "outputs": []
    },
    {
      "cell_type": "markdown",
      "id": "a3466ebe",
      "metadata": {
        "papermill": {
          "duration": 0.081751,
          "end_time": "2023-06-22T08:00:19.224875",
          "exception": false,
          "start_time": "2023-06-22T08:00:19.143124",
          "status": "completed"
        },
        "tags": [],
        "id": "a3466ebe"
      },
      "source": [
        "## 8.2. Observation"
      ]
    },
    {
      "cell_type": "markdown",
      "id": "ec94bf67",
      "metadata": {
        "papermill": {
          "duration": 0.081687,
          "end_time": "2023-06-22T08:00:19.390102",
          "exception": false,
          "start_time": "2023-06-22T08:00:19.308415",
          "status": "completed"
        },
        "tags": [],
        "id": "ec94bf67"
      },
      "source": [
        "<div style=\"text-align:left; padding: 13px 13px; border-radius: 8px; font-size: 16px\">\n",
        "The results indicate that <b>Autogluon</b> outperforms the <b>FLAML</b>. One of the reasons for this difference in performance could be the availability of model algorithms.  <b>FLAML</b> and <b>Autogluon</b> AutoML include advanced model algorithms like XGBoost, LGBM, and CatBoost. Despite the advanced model algorithms, <b>Autogluon</b> AutoML also uses an ensemble classifier based on the base advanced model learners of XGBoost and LGBM. This drives <b>Autogluon</b> to slightly outperform <b>FLAML</b>, as <b>FLAML</b> has no ensemble classifier from the base learners.\n",
        "\n",
        "\n",
        " </div>"
      ]
    }
  ],
  "metadata": {
    "kernelspec": {
      "display_name": "Python 3",
      "language": "python",
      "name": "python3"
    },
    "language_info": {
      "codemirror_mode": {
        "name": "ipython",
        "version": 3
      },
      "file_extension": ".py",
      "mimetype": "text/x-python",
      "name": "python",
      "nbconvert_exporter": "python",
      "pygments_lexer": "ipython3",
      "version": "3.7.12"
    },
    "papermill": {
      "default_parameters": {},
      "duration": 732.204034,
      "end_time": "2023-06-22T08:00:24.924378",
      "environment_variables": {},
      "exception": null,
      "input_path": "__notebook__.ipynb",
      "output_path": "__notebook__.ipynb",
      "parameters": {},
      "start_time": "2023-06-22T07:48:12.720344",
      "version": "2.3.4"
    },
    "colab": {
      "provenance": []
    }
  },
  "nbformat": 4,
  "nbformat_minor": 5
}